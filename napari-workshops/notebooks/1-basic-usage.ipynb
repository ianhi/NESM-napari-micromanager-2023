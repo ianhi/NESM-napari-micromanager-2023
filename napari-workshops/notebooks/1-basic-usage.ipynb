{
 "cells": [
  {
   "cell_type": "markdown",
   "id": "ee1cecb6-80b6-45e4-a843-2c43174be678",
   "metadata": {},
   "source": [
    "# Basic Usage\n",
    "\n",
    "How to interact with napari-micromanager gui + some very basic coding commands.\n",
    "\n",
    "\n",
    "For this and all subsequent sections we will be using the [mda-simulator](https://mda-simulator.readthedocs.io/en/latest/) package for our synthetic data."
   ]
  },
  {
   "cell_type": "code",
   "execution_count": 1,
   "id": "a832a007-2019-4b93-9756-ba981398384a",
   "metadata": {
    "execution": {
     "iopub.execute_input": "2023-05-11T03:39:15.271259Z",
     "iopub.status.busy": "2023-05-11T03:39:15.270939Z",
     "iopub.status.idle": "2023-05-11T03:39:18.802091Z",
     "shell.execute_reply": "2023-05-11T03:39:18.801314Z",
     "shell.execute_reply.started": "2023-05-11T03:39:15.271229Z"
    },
    "tags": []
   },
   "outputs": [
    {
     "name": "stderr",
     "output_type": "stream",
     "text": [
      "WARNING: QMainWindowLayout::count: ?\n"
     ]
    }
   ],
   "source": [
    "import mda_simulator\n",
    "\n",
    "import napari\n",
    "from pymmcore_plus import CMMCorePlus\n",
    "\n",
    "from mda_simulator import ImageGenerator\n",
    "import useq\n",
    "from mda_simulator.mmcore import FakeDemoCamera\n",
    "import numpy as np\n",
    "\n",
    "v = napari.Viewer()\n",
    "dw, main_window = v.window.add_plugin_dock_widget(\"napari-micromanager\")\n",
    "\n",
    "core = CMMCorePlus.instance()\n",
    "core.loadSystemConfiguration('config.cfg')\n",
    "\n",
    "gen = ImageGenerator(N=4000)\n",
    "# gen = ImageGenerator(N=1, snr = 1, noise_scale=2,extent=.5, step_scale=(8, 4))\n",
    "\n",
    "\n",
    "# Create an object that will modify the `snap` method of the CMMCorePlus\n",
    "# instance to return images from our ImageGenerator\n",
    "fake_cam = FakeDemoCamera(\n",
    "    gen,\n",
    "    timing=1.5,  # how many real world seconds to wait to step the ImageGenerator time\n",
    "    core=core,\n",
    ")\n",
    "core.setConfig(\"Channel\", \"DAPI\")"
   ]
  },
  {
   "cell_type": "markdown",
   "id": "d8e33d7f-5e5a-4111-ac8c-979971277daa",
   "metadata": {},
   "source": [
    "## Demo Using Napari\n",
    "\n",
    "\n",
    "1. How to change layer contrast\n",
    "2. Zoom etc"
   ]
  },
  {
   "cell_type": "markdown",
   "id": "9d9e9847-203e-4fd2-8bcf-0852f3a77c2f",
   "metadata": {},
   "source": [
    "## Options for our simulation and fake camera\n",
    "\n",
    "\n",
    "```python\n",
    "gen.snr\n",
    "fake_cam.timing\n",
    "fake_cam.pause_timer()\n",
    "fake_cam.start_timer()\n",
    "```\n"
   ]
  },
  {
   "cell_type": "markdown",
   "id": "a339b7bc-80cd-49f7-a0f5-025a9cb9fdeb",
   "metadata": {},
   "source": [
    "## Why do all this?\n",
    "\n",
    "Look at: https://pymmcore-plus.github.io/pymmcore-plus/images/components.png"
   ]
  },
  {
   "cell_type": "markdown",
   "id": "f0e52cdb-e75f-4ced-a9c5-4a39d1093b70",
   "metadata": {},
   "source": [
    "## Controlling the microscope programmatically\n",
    "\n",
    "First stop - the [documentation](https://pymmcore-plus.github.io/pymmcore-plus/)!"
   ]
  },
  {
   "cell_type": "code",
   "execution_count": 3,
   "id": "46c00f54-55f4-44e7-b171-cf68c37fea8e",
   "metadata": {
    "execution": {
     "iopub.execute_input": "2023-05-11T03:39:34.216633Z",
     "iopub.status.busy": "2023-05-11T03:39:34.215342Z",
     "iopub.status.idle": "2023-05-11T03:39:34.223329Z",
     "shell.execute_reply": "2023-05-11T03:39:34.221506Z",
     "shell.execute_reply.started": "2023-05-11T03:39:34.216565Z"
    },
    "tags": []
   },
   "outputs": [],
   "source": [
    "gen.snr = 2"
   ]
  },
  {
   "cell_type": "code",
   "execution_count": 4,
   "id": "d280c06c-1f2d-4aab-86c6-653f0404ed09",
   "metadata": {
    "execution": {
     "iopub.execute_input": "2023-05-11T03:40:06.642376Z",
     "iopub.status.busy": "2023-05-11T03:40:06.640811Z",
     "iopub.status.idle": "2023-05-11T03:40:06.669922Z",
     "shell.execute_reply": "2023-05-11T03:40:06.662379Z",
     "shell.execute_reply.started": "2023-05-11T03:40:06.642235Z"
    },
    "tags": []
   },
   "outputs": [],
   "source": [
    "core.setRelativeXYPosition(40, 0)"
   ]
  },
  {
   "cell_type": "code",
   "execution_count": 9,
   "id": "d5f6e610-6e4e-493c-9499-470819290c3e",
   "metadata": {
    "execution": {
     "iopub.execute_input": "2023-05-11T03:40:54.096513Z",
     "iopub.status.busy": "2023-05-11T03:40:54.095302Z",
     "iopub.status.idle": "2023-05-11T03:40:54.102643Z",
     "shell.execute_reply": "2023-05-11T03:40:54.101383Z",
     "shell.execute_reply.started": "2023-05-11T03:40:54.096455Z"
    },
    "tags": []
   },
   "outputs": [],
   "source": [
    "core.setPosition(0)"
   ]
  },
  {
   "cell_type": "code",
   "execution_count": 10,
   "id": "260df4f6-c7d0-4d05-b1fc-693c2596d41f",
   "metadata": {
    "execution": {
     "iopub.execute_input": "2023-05-11T03:43:02.813268Z",
     "iopub.status.busy": "2023-05-11T03:43:02.812639Z",
     "iopub.status.idle": "2023-05-11T03:43:02.874020Z",
     "shell.execute_reply": "2023-05-11T03:43:02.873241Z",
     "shell.execute_reply.started": "2023-05-11T03:43:02.813211Z"
    },
    "tags": []
   },
   "outputs": [
    {
     "data": {
      "text/plain": [
       "array([[ 73, 593, 374, ..., 377, 357,   0],\n",
       "       [ 54,   0,   0, ...,  30, 266,   0],\n",
       "       [418, 475,  90, ...,   0,   0, 191],\n",
       "       ...,\n",
       "       [  0,   0, 530, ...,   0, 396, 418],\n",
       "       [182, 853, 707, ..., 923,  16,   0],\n",
       "       [  0, 109, 469, ...,   0, 421,   0]], dtype=uint16)"
      ]
     },
     "execution_count": 10,
     "metadata": {},
     "output_type": "execute_result"
    }
   ],
   "source": [
    "core.snap()"
   ]
  },
  {
   "cell_type": "markdown",
   "id": "fc68846b-f71f-462f-bfd2-b246b4d1c7ff",
   "metadata": {},
   "source": [
    "## Questions and break!"
   ]
  },
  {
   "cell_type": "code",
   "execution_count": null,
   "id": "3a8b2e66-9669-460f-9d02-25c1e77c1c4e",
   "metadata": {},
   "outputs": [],
   "source": []
  }
 ],
 "metadata": {
  "kernelspec": {
   "display_name": "Python 3 (ipykernel)",
   "language": "python",
   "name": "python3"
  },
  "language_info": {
   "codemirror_mode": {
    "name": "ipython",
    "version": 3
   },
   "file_extension": ".py",
   "mimetype": "text/x-python",
   "name": "python",
   "nbconvert_exporter": "python",
   "pygments_lexer": "ipython3",
   "version": "3.9.16"
  },
  "widgets": {
   "application/vnd.jupyter.widget-state+json": {
    "state": {},
    "version_major": 2,
    "version_minor": 0
   }
  }
 },
 "nbformat": 4,
 "nbformat_minor": 5
}
