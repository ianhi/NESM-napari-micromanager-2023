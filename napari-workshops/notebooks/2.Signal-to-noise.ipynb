{
 "cells": [
  {
   "cell_type": "markdown",
   "id": "d1fe0e5f-fdd9-401f-8eec-e0845e5d2e44",
   "metadata": {},
   "source": [
    "## Making A simple utility to measure image quality\n",
    "\n",
    "\n",
    "Specifically the intensity of a region of signal vs a region of background"
   ]
  },
  {
   "cell_type": "code",
   "execution_count": 1,
   "id": "b18352bb-77d6-4693-b54d-ddb0bb76fb01",
   "metadata": {
    "execution": {
     "iopub.execute_input": "2023-05-11T02:31:38.633545Z",
     "iopub.status.busy": "2023-05-11T02:31:38.632472Z",
     "iopub.status.idle": "2023-05-11T02:31:45.364638Z",
     "shell.execute_reply": "2023-05-11T02:31:45.363782Z",
     "shell.execute_reply.started": "2023-05-11T02:31:38.633389Z"
    },
    "tags": []
   },
   "outputs": [
    {
     "name": "stderr",
     "output_type": "stream",
     "text": [
      "Gtk-Message: 22:31:42.042: Failed to load module \"appmenu-gtk-module\"\n",
      "WARNING: QMainWindowLayout::count: ?\n"
     ]
    }
   ],
   "source": [
    "\n",
    "import mda_simulator\n",
    "\n",
    "import napari\n",
    "from pymmcore_plus import CMMCorePlus\n",
    "\n",
    "from mda_simulator import ImageGenerator\n",
    "import useq\n",
    "from mda_simulator.mmcore import FakeDemoCamera\n",
    "import numpy as np\n",
    "\n",
    "v = napari.Viewer()\n",
    "dw, main_window = v.window.add_plugin_dock_widget(\"napari-micromanager\")\n",
    "\n",
    "core = CMMCorePlus.instance()\n",
    "core.loadSystemConfiguration('config.cfg')\n",
    "\n",
    "gen = ImageGenerator(N=4000)\n",
    "# gen = ImageGenerator(N=1, snr = 1, noise_scale=2,extent=.5, step_scale=(8, 4))\n",
    "\n",
    "\n",
    "# Create an object that will modify the `snap` method of the CMMCorePlus\n",
    "# instance to return images from our ImageGenerator\n",
    "fake_cam = FakeDemoCamera(\n",
    "    gen,\n",
    "    timing=1,  # how many real world seconds to wait to step the ImageGenerator time\n",
    "    core=core,\n",
    ")\n",
    "core.setConfig(\"Channel\", \"DAPI\")"
   ]
  },
  {
   "cell_type": "markdown",
   "id": "b166dd98-b9e4-4eed-90bc-115b39c66bb8",
   "metadata": {},
   "source": [
    "## Demo\n",
    "\n",
    "1. Make a labels layer\n",
    "2. Show how to draw on that layer\n",
    "\n",
    "\n",
    "Now you can access the layers directly from napari"
   ]
  },
  {
   "cell_type": "code",
   "execution_count": 3,
   "id": "25fda1e4-a585-404b-a9c6-5345cba6b61d",
   "metadata": {
    "execution": {
     "iopub.execute_input": "2023-05-11T02:33:15.335484Z",
     "iopub.status.busy": "2023-05-11T02:33:15.334276Z",
     "iopub.status.idle": "2023-05-11T02:33:15.362031Z",
     "shell.execute_reply": "2023-05-11T02:33:15.359889Z",
     "shell.execute_reply.started": "2023-05-11T02:33:15.335387Z"
    },
    "tags": []
   },
   "outputs": [
    {
     "data": {
      "text/plain": [
       "[<Image layer 'preview' at 0x7fac885b0940>, <Labels layer 'Labels' at 0x7fabdc088550>]"
      ]
     },
     "execution_count": 3,
     "metadata": {},
     "output_type": "execute_result"
    }
   ],
   "source": [
    "v.layers"
   ]
  },
  {
   "cell_type": "code",
   "execution_count": 4,
   "id": "3bd28164-05d4-4486-b404-6eda41e3aeb8",
   "metadata": {
    "execution": {
     "iopub.execute_input": "2023-05-11T02:33:26.470680Z",
     "iopub.status.busy": "2023-05-11T02:33:26.465977Z",
     "iopub.status.idle": "2023-05-11T02:33:26.486005Z",
     "shell.execute_reply": "2023-05-11T02:33:26.482076Z",
     "shell.execute_reply.started": "2023-05-11T02:33:26.470515Z"
    },
    "tags": []
   },
   "outputs": [],
   "source": [
    "preview = v.layers[0]\n",
    "labels = v.layers[1]"
   ]
  },
  {
   "cell_type": "code",
   "execution_count": 12,
   "id": "57244a9c-48ee-4ad7-b307-6c073d6736e9",
   "metadata": {
    "execution": {
     "iopub.execute_input": "2023-05-11T02:50:02.520165Z",
     "iopub.status.busy": "2023-05-11T02:50:02.519293Z",
     "iopub.status.idle": "2023-05-11T02:50:02.532849Z",
     "shell.execute_reply": "2023-05-11T02:50:02.529586Z",
     "shell.execute_reply.started": "2023-05-11T02:50:02.520087Z"
    },
    "tags": []
   },
   "outputs": [],
   "source": [
    "labels.data\n",
    "img = preview.data\n",
    "import matplotlib.pyplot as plt\n",
    "fig, ax = plt.subplots()\n",
    "ax.imshow(foreground)"
   ]
  },
  {
   "cell_type": "markdown",
   "id": "dced01f8-dc00-4282-a52d-91460bd31683",
   "metadata": {},
   "source": [
    "## exercise\n",
    "\n",
    "Use the background and foreground to calculate a "
   ]
  },
  {
   "cell_type": "code",
   "execution_count": 8,
   "id": "6be6eea8-f197-455d-8807-56ea3fa33ad2",
   "metadata": {
    "execution": {
     "iopub.execute_input": "2023-05-11T02:49:06.557203Z",
     "iopub.status.busy": "2023-05-11T02:49:06.556126Z",
     "iopub.status.idle": "2023-05-11T02:49:06.571113Z",
     "shell.execute_reply": "2023-05-11T02:49:06.567021Z",
     "shell.execute_reply.started": "2023-05-11T02:49:06.557110Z"
    },
    "tags": []
   },
   "outputs": [],
   "source": [
    "background = labels.data == 1\n",
    "foreground = labels.data == 2"
   ]
  },
  {
   "cell_type": "code",
   "execution_count": 11,
   "id": "300bb575-f198-44f3-bdae-75f8aa0e9b6d",
   "metadata": {
    "execution": {
     "iopub.execute_input": "2023-05-11T02:49:32.384954Z",
     "iopub.status.busy": "2023-05-11T02:49:32.383972Z",
     "iopub.status.idle": "2023-05-11T02:49:33.461237Z",
     "shell.execute_reply": "2023-05-11T02:49:33.460031Z",
     "shell.execute_reply.started": "2023-05-11T02:49:32.384861Z"
    },
    "tags": []
   },
   "outputs": [
    {
     "data": {
      "text/plain": [
       "<matplotlib.image.AxesImage at 0x7fabb7e56b20>"
      ]
     },
     "execution_count": 11,
     "metadata": {},
     "output_type": "execute_result"
    },
    {
     "data": {
      "image/png": "[encoded data removed]",
      "text/plain": [
       "<Figure size 640x480 with 1 Axes>"
      ]
     },
     "metadata": {},
     "output_type": "display_data"
    }
   ],
   "source": [
    "img[foreground].mean() / img[background].mean()"
   ]
  },
  {
   "cell_type": "code",
   "execution_count": 16,
   "id": "e3fa3985-2b4a-46b2-9964-65e2709e2f43",
   "metadata": {
    "execution": {
     "iopub.execute_input": "2023-05-11T02:51:07.778159Z",
     "iopub.status.busy": "2023-05-11T02:51:07.776792Z",
     "iopub.status.idle": "2023-05-11T02:51:07.799159Z",
     "shell.execute_reply": "2023-05-11T02:51:07.797998Z",
     "shell.execute_reply.started": "2023-05-11T02:51:07.778036Z"
    },
    "tags": []
   },
   "outputs": [
    {
     "data": {
      "text/plain": [
       "15.293289779182356"
      ]
     },
     "execution_count": 16,
     "metadata": {},
     "output_type": "execute_result"
    }
   ],
   "source": []
  },
  {
   "cell_type": "markdown",
   "id": "088b3d0a-5a1f-4453-b38c-726413577567",
   "metadata": {
    "execution": {
     "iopub.execute_input": "2023-05-11T02:50:12.292177Z",
     "iopub.status.busy": "2023-05-11T02:50:12.291002Z",
     "iopub.status.idle": "2023-05-11T02:50:12.310016Z",
     "shell.execute_reply": "2023-05-11T02:50:12.308064Z",
     "shell.execute_reply.started": "2023-05-11T02:50:12.292080Z"
    },
    "tags": []
   },
   "source": [
    "## Demo - A widget to display\n",
    "\n",
    "Here an notebook widget - but in general can integrate into Napari (or display however you want)"
   ]
  },
  {
   "cell_type": "code",
   "execution_count": 17,
   "id": "8c0b1bda-ca7b-40f9-968f-4a8573080c3a",
   "metadata": {
    "execution": {
     "iopub.execute_input": "2023-05-11T02:53:24.028705Z",
     "iopub.status.busy": "2023-05-11T02:53:24.027849Z",
     "iopub.status.idle": "2023-05-11T02:53:24.130358Z",
     "shell.execute_reply": "2023-05-11T02:53:24.129118Z",
     "shell.execute_reply.started": "2023-05-11T02:53:24.028625Z"
    },
    "tags": []
   },
   "outputs": [],
   "source": [
    "import ipywidgets as widgets"
   ]
  },
  {
   "cell_type": "code",
   "execution_count": 25,
   "id": "4f85045a-c5f7-4b85-b274-00ed1674189a",
   "metadata": {
    "execution": {
     "iopub.execute_input": "2023-05-11T02:56:04.924426Z",
     "iopub.status.busy": "2023-05-11T02:56:04.922563Z",
     "iopub.status.idle": "2023-05-11T02:56:04.941207Z",
     "shell.execute_reply": "2023-05-11T02:56:04.940344Z",
     "shell.execute_reply.started": "2023-05-11T02:56:04.924336Z"
    },
    "tags": []
   },
   "outputs": [
    {
     "data": {
      "application/vnd.jupyter.widget-view+json": {
       "model_id": "a72eb4470b7a40068e93a5eb22b6d7ab",
       "version_major": 2,
       "version_minor": 0
      },
      "text/plain": [
       "Output()"
      ]
     },
     "metadata": {},
     "output_type": "display_data"
    }
   ],
   "source": [
    "output = widgets.Output()\n",
    "display(output)"
   ]
  },
  {
   "cell_type": "code",
   "execution_count": 28,
   "id": "15a7e45a-b2ad-42ac-99ae-8e999feb9c92",
   "metadata": {
    "execution": {
     "iopub.execute_input": "2023-05-11T02:56:26.024380Z",
     "iopub.status.busy": "2023-05-11T02:56:26.023118Z",
     "iopub.status.idle": "2023-05-11T02:56:26.047289Z",
     "shell.execute_reply": "2023-05-11T02:56:26.046111Z",
     "shell.execute_reply.started": "2023-05-11T02:56:26.024284Z"
    },
    "tags": []
   },
   "outputs": [],
   "source": [
    "ratio = img[foreground].mean() / img[background].mean()\n",
    "output.clear_output()\n",
    "with output:\n",
    "    print(f'Foreground to background ratio: {ratio:.2f}')"
   ]
  },
  {
   "cell_type": "code",
   "execution_count": 22,
   "id": "85b713d5-da47-466e-b1bd-f93e12afe993",
   "metadata": {
    "execution": {
     "iopub.execute_input": "2023-05-11T02:54:04.730322Z",
     "iopub.status.busy": "2023-05-11T02:54:04.729758Z",
     "iopub.status.idle": "2023-05-11T02:54:04.740148Z",
     "shell.execute_reply": "2023-05-11T02:54:04.738797Z",
     "shell.execute_reply.started": "2023-05-11T02:54:04.730283Z"
    },
    "tags": []
   },
   "outputs": [],
   "source": []
  },
  {
   "cell_type": "markdown",
   "id": "a78c4ac6-1240-43b7-88fc-5aa9be8ad478",
   "metadata": {},
   "source": [
    "## Updating as new live mode images come\n",
    "\n",
    "\n",
    "Using signals\n",
    "\n",
    "\n",
    "- `continuousSequenceAcquisitionStarted`\n",
    "- `sequenceAcquisitionStopped`"
   ]
  },
  {
   "cell_type": "code",
   "execution_count": null,
   "id": "8b182312-3d24-463a-ad1e-1118420a813f",
   "metadata": {
    "execution": {
     "iopub.status.busy": "2023-05-11T03:04:57.447440Z",
     "iopub.status.idle": "2023-05-11T03:04:57.448187Z",
     "shell.execute_reply": "2023-05-11T03:04:57.447853Z",
     "shell.execute_reply.started": "2023-05-11T03:04:57.447816Z"
    },
    "tags": []
   },
   "outputs": [],
   "source": [
    "\n",
    "from qtpy.QtCore import QTimer\n",
    "streaming_timer = QTimer()\n",
    "streaming_timer.timeout.connect(self._update_viewer)\n",
    "streaming_timer.start(int(self._mmc.getExposure()))"
   ]
  },
  {
   "cell_type": "code",
   "execution_count": null,
   "id": "7f44afc5-7348-4ec4-b4ee-45846f8556d3",
   "metadata": {},
   "outputs": [],
   "source": []
  }
 ],
 "metadata": {
  "kernelspec": {
   "display_name": "Python 3 (ipykernel)",
   "language": "python",
   "name": "python3"
  },
  "language_info": {
   "codemirror_mode": {
    "name": "ipython",
    "version": 3
   },
   "file_extension": ".py",
   "mimetype": "text/x-python",
   "name": "python",
   "nbconvert_exporter": "python",
   "pygments_lexer": "ipython3",
   "version": "3.9.16"
  },
  "widgets": {
   "application/vnd.jupyter.widget-state+json": {
    "state": {
     "126cf760699d4f398ee2ec644c78b7f2": {
      "model_module": "@jupyter-widgets/base",
      "model_module_version": "2.0.0",
      "model_name": "LayoutModel",
      "state": {}
     },
     "6b0439c4af16420497d48ff9f22b81cc": {
      "model_module": "@jupyter-widgets/base",
      "model_module_version": "2.0.0",
      "model_name": "LayoutModel",
      "state": {}
     },
     "751631a6ccdd494dbeda3d51951d1a73": {
      "model_module": "@jupyter-widgets/output",
      "model_module_version": "1.0.0",
      "model_name": "OutputModel",
      "state": {
       "layout": "IPY_MODEL_6b0439c4af16420497d48ff9f22b81cc",
       "outputs": [
        {
         "ename": "NameError",
         "evalue": "name 'ratio' is not defined",
         "output_type": "error",
         "traceback": [
          "\u001b[0;31m---------------------------------------------------------------------------\u001b[0m",
          "\u001b[0;31mNameError\u001b[0m                                 Traceback (most recent call last)",
          "Cell \u001b[0;32mIn[24], line 3\u001b[0m\n\u001b[1;32m      1\u001b[0m output\u001b[38;5;241m.\u001b[39mclear_output()\n\u001b[1;32m      2\u001b[0m \u001b[38;5;28;01mwith\u001b[39;00m output:\n\u001b[0;32m----> 3\u001b[0m     \u001b[38;5;28mprint\u001b[39m(\u001b[38;5;124mf\u001b[39m\u001b[38;5;124m'\u001b[39m\u001b[38;5;124mForeground to background ratio: \u001b[39m\u001b[38;5;132;01m{\u001b[39;00m\u001b[43mratio\u001b[49m\u001b[38;5;132;01m}\u001b[39;00m\u001b[38;5;124m'\u001b[39m)\n",
          "\u001b[0;31mNameError\u001b[0m: name 'ratio' is not defined"
         ]
        }
       ]
      }
     },
     "7bdc1a14e37f42438375cd53c0be2dbf": {
      "model_module": "@jupyter-widgets/base",
      "model_module_version": "2.0.0",
      "model_name": "LayoutModel",
      "state": {}
     },
     "926b68ae894f4018bd0a09cdfc1fa54f": {
      "model_module": "@jupyter-widgets/output",
      "model_module_version": "1.0.0",
      "model_name": "OutputModel",
      "state": {
       "layout": "IPY_MODEL_126cf760699d4f398ee2ec644c78b7f2",
       "outputs": [
        {
         "name": "stdout",
         "output_type": "stream",
         "text": "bacldsk\n"
        }
       ]
      }
     },
     "a72eb4470b7a40068e93a5eb22b6d7ab": {
      "model_module": "@jupyter-widgets/output",
      "model_module_version": "1.0.0",
      "model_name": "OutputModel",
      "state": {
       "layout": "IPY_MODEL_7bdc1a14e37f42438375cd53c0be2dbf",
       "outputs": [
        {
         "name": "stdout",
         "output_type": "stream",
         "text": "Foreground to background ratio: 15.29\n"
        }
       ]
      }
     }
    },
    "version_major": 2,
    "version_minor": 0
   }
  }
 },
 "nbformat": 4,
 "nbformat_minor": 5
}
