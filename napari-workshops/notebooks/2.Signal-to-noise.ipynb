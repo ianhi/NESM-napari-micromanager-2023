{
 "cells": [
  {
   "cell_type": "markdown",
   "id": "d1fe0e5f-fdd9-401f-8eec-e0845e5d2e44",
   "metadata": {},
   "source": [
    "## Making A simple utility to measure image quality\n",
    "\n",
    "\n",
    "Specifically the intensity of a region of signal vs a region of background"
   ]
  },
  {
   "cell_type": "code",
   "execution_count": null,
   "id": "b18352bb-77d6-4693-b54d-ddb0bb76fb01",
   "metadata": {
    "tags": []
   },
   "outputs": [],
   "source": [
    "\n",
    "import mda_simulator\n",
    "\n",
    "import napari\n",
    "from pymmcore_plus import CMMCorePlus\n",
    "\n",
    "from mda_simulator import ImageGenerator\n",
    "import useq\n",
    "from mda_simulator.mmcore import FakeDemoCamera\n",
    "import numpy as np\n",
    "import matplotlib.pyplot as plt\n",
    "\n",
    "v = napari.Viewer()\n",
    "dw, main_window = v.window.add_plugin_dock_widget(\"napari-micromanager\")\n",
    "\n",
    "core = CMMCorePlus.instance()\n",
    "core.loadSystemConfiguration('config.cfg')\n",
    "\n",
    "gen = ImageGenerator(N=4000)\n",
    "# gen = ImageGenerator(N=1, snr = 1, noise_scale=2,extent=.5, step_scale=(8, 4))\n",
    "\n",
    "\n",
    "# Create an object that will modify the `snap` method of the CMMCorePlus\n",
    "# instance to return images from our ImageGenerator\n",
    "fake_cam = FakeDemoCamera(\n",
    "    gen,\n",
    "    timing=1,  # how many real world seconds to wait to step the ImageGenerator time\n",
    "    core=core,\n",
    ")\n",
    "core.setConfig(\"Channel\", \"DAPI\")"
   ]
  },
  {
   "cell_type": "markdown",
   "id": "b166dd98-b9e4-4eed-90bc-115b39c66bb8",
   "metadata": {},
   "source": [
    "## Demo\n",
    "\n",
    "1. Make a labels layer\n",
    "2. Show how to draw on that layer\n",
    "\n",
    "\n",
    "Now you can access the layers directly from napari"
   ]
  },
  {
   "cell_type": "code",
   "execution_count": null,
   "id": "25fda1e4-a585-404b-a9c6-5345cba6b61d",
   "metadata": {
    "tags": []
   },
   "outputs": [],
   "source": []
  },
  {
   "cell_type": "markdown",
   "id": "dced01f8-dc00-4282-a52d-91460bd31683",
   "metadata": {},
   "source": [
    "## exercise\n",
    "\n",
    "Use the background and foreground to calculate a "
   ]
  },
  {
   "cell_type": "code",
   "execution_count": null,
   "id": "6be6eea8-f197-455d-8807-56ea3fa33ad2",
   "metadata": {
    "tags": []
   },
   "outputs": [],
   "source": []
  },
  {
   "cell_type": "markdown",
   "id": "088b3d0a-5a1f-4453-b38c-726413577567",
   "metadata": {
    "execution": {
     "iopub.execute_input": "2023-05-11T02:50:12.292177Z",
     "iopub.status.busy": "2023-05-11T02:50:12.291002Z",
     "iopub.status.idle": "2023-05-11T02:50:12.310016Z",
     "shell.execute_reply": "2023-05-11T02:50:12.308064Z",
     "shell.execute_reply.started": "2023-05-11T02:50:12.292080Z"
    },
    "tags": []
   },
   "source": [
    "## Demo - A widget to display\n",
    "\n",
    "Here an notebook widget - but in general can integrate into Napari (or display however you want)"
   ]
  },
  {
   "cell_type": "code",
   "execution_count": null,
   "id": "8c0b1bda-ca7b-40f9-968f-4a8573080c3a",
   "metadata": {
    "tags": []
   },
   "outputs": [],
   "source": [
    "import ipywidgets as widgets"
   ]
  },
  {
   "cell_type": "code",
   "execution_count": null,
   "id": "4f85045a-c5f7-4b85-b274-00ed1674189a",
   "metadata": {
    "tags": []
   },
   "outputs": [],
   "source": [
    "output = widgets.Output()\n",
    "display(output)"
   ]
  },
  {
   "cell_type": "code",
   "execution_count": null,
   "id": "85b713d5-da47-466e-b1bd-f93e12afe993",
   "metadata": {
    "tags": []
   },
   "outputs": [],
   "source": []
  },
  {
   "cell_type": "markdown",
   "id": "a78c4ac6-1240-43b7-88fc-5aa9be8ad478",
   "metadata": {},
   "source": [
    "## Updating as new live mode images come\n",
    "\n",
    "We can use napari's signals"
   ]
  },
  {
   "cell_type": "code",
   "execution_count": null,
   "id": "1822a902-98a6-4fef-b081-8f221a41489b",
   "metadata": {
    "tags": []
   },
   "outputs": [],
   "source": [
    "\n",
    "from qtpy.QtCore import QTimer\n",
    "streaming_timer = QTimer()\n",
    "streaming_timer.start(int(core.getExposure()))\n",
    "\n",
    "streaming_timer.timeout.connect(<FUNC TO BE REGULARLY CALLED>)"
   ]
  },
  {
   "cell_type": "code",
   "execution_count": null,
   "id": "970d72e4-4cca-48c8-b5e9-7672a61b052a",
   "metadata": {},
   "outputs": [],
   "source": []
  }
 ],
 "metadata": {
  "kernelspec": {
   "display_name": "Python 3 (ipykernel)",
   "language": "python",
   "name": "python3"
  },
  "language_info": {
   "codemirror_mode": {
    "name": "ipython",
    "version": 3
   },
   "file_extension": ".py",
   "mimetype": "text/x-python",
   "name": "python",
   "nbconvert_exporter": "python",
   "pygments_lexer": "ipython3",
   "version": "3.9.16"
  },
  "widgets": {
   "application/vnd.jupyter.widget-state+json": {
    "state": {},
    "version_major": 2,
    "version_minor": 0
   }
  }
 },
 "nbformat": 4,
 "nbformat_minor": 5
}
