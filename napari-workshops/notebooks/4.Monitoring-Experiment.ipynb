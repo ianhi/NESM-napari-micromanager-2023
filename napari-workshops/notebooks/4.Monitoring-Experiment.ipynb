{
 "cells": [
  {
   "cell_type": "markdown",
   "id": "ac0f0712-7e65-41e0-a5ec-6d1aa68d8a70",
   "metadata": {},
   "source": [
    "# Working with Multidimensional Acquisitions\n",
    "\n",
    "\n",
    "Automatic Alerts If Experiment goes awry\n",
    "\n",
    "\n",
    "e.g. if water on an objective lens evaporates\n",
    "\n",
    "\n",
    "Available Signals: https://pymmcore-plus.github.io/pymmcore-plus/api/events/#pymmcore_plus.mda.events.PMDASignaler"
   ]
  },
  {
   "cell_type": "code",
   "execution_count": null,
   "id": "7ac7f43f-788a-415a-8565-f48fb5f5279e",
   "metadata": {
    "tags": []
   },
   "outputs": [],
   "source": [
    "import mda_simulator\n",
    "\n",
    "import napari\n",
    "from pymmcore_plus import CMMCorePlus\n",
    "\n",
    "from mda_simulator import ImageGenerator\n",
    "import useq\n",
    "from mda_simulator.mmcore import FakeDemoCamera\n",
    "import numpy as np\n",
    "\n",
    "v = napari.Viewer()\n",
    "dw, main_window = v.window.add_plugin_dock_widget(\"napari-micromanager\")\n",
    "\n",
    "core = CMMCorePlus.instance()\n",
    "core.loadSystemConfiguration('config.cfg')\n",
    "\n",
    "gen = ImageGenerator(N=4000)\n",
    "# gen = ImageGenerator(N=1, snr = 1, noise_scale=2,extent=.5, step_scale=(8, 4))\n",
    "\n",
    "\n",
    "# Create an object that will modify the `snap` method of the CMMCorePlus\n",
    "# instance to return images from our ImageGenerator\n",
    "fake_cam = FakeDemoCamera(\n",
    "    gen,\n",
    "    timing=1,  # how many real world seconds to wait to step the ImageGenerator time\n",
    "    core=core,\n",
    ")\n",
    "core.setConfig(\"Channel\", \"DAPI\")"
   ]
  },
  {
   "cell_type": "code",
   "execution_count": null,
   "id": "5e99d798-8a65-4e18-950c-33c234d3ac9c",
   "metadata": {
    "tags": []
   },
   "outputs": [],
   "source": []
  },
  {
   "cell_type": "code",
   "execution_count": null,
   "id": "8cb4ad54-1b37-4e79-8b87-5371419f6129",
   "metadata": {
    "tags": []
   },
   "outputs": [],
   "source": [
    "try:\n",
    "    core.mda.events.frameReady.disconnect(analyze_frame)\n",
    "except RuntimeError:\n",
    "    pass\n",
    "\n",
    "def analyze_frame(img: np.ndarray, event: useq.MDAEvent, ):\n",
    "    print(np.std(img))\n",
    "\n",
    "core.mda.events.frameReady.connect(analyze_frame)"
   ]
  },
  {
   "cell_type": "markdown",
   "id": "6d67676b-f10a-444b-82b6-47a15036d3d7",
   "metadata": {},
   "source": [
    "## Connecting to an display\n",
    "\n",
    "\n",
    "You can eithe make a full Qt widget (and even integrate into the napari display!) or in a simple case you can create a widget to be displayed in the notebook\n",
    "```python\n",
    "import ipywidgets as widgets\n",
    "text_box = widgets.Text(\n",
    "    value='0',\n",
    "    description='Mean:',\n",
    "    disabled=True   \n",
    ")\n",
    "\n",
    "display(text_box)\n",
    "\n",
    "# set the value to be a string\n",
    "text_box.value = \"blah blah blah\"\n",
    "```\n",
    "\n",
    "\n",
    "Try adding on a second analysis function that updates the value of a text box to display the mean."
   ]
  },
  {
   "cell_type": "markdown",
   "id": "ed819347-e4b0-4e74-a049-25609cc55921",
   "metadata": {},
   "source": [
    "## Automatically ending a run if something goes wrong\n",
    "\n",
    "We can simulate something going wrong (e.g. water objective drying out) by dramatically increasing the noise.\n",
    "In our case by setting `gen.snr = 0.001`. See if you can detect this in a `frameReady` callback and then try calling\n",
    "`core.mda.cancel()` to stop the MDA."
   ]
  },
  {
   "cell_type": "code",
   "execution_count": null,
   "id": "ee787fb8-4398-4901-b73c-a502f28153f3",
   "metadata": {},
   "outputs": [],
   "source": [
    "\n",
    "try:\n",
    "    core.mda.events.frameReady.disconnect(analyze_frame)\n",
    "except RuntimeError:\n",
    "    pass\n",
    "def analyze_frame(img: np.ndarray, event: useq.MDAEvent, ):\n",
    "    pass\n",
    "    # print(np.std(img))\n",
    "core.mda.events.frameReady.connect(analyze_frame)"
   ]
  },
  {
   "cell_type": "markdown",
   "id": "acea936a-a864-41d5-9d0c-8fe3879387cf",
   "metadata": {},
   "source": [
    "# Advanced - Automatically updating plot\n",
    "\n",
    "A nice extension would be to make a matplotlib update it's displayed points\n",
    "\n",
    "\n"
   ]
  },
  {
   "cell_type": "code",
   "execution_count": null,
   "id": "08c5b228-9383-4d6a-9c6e-86345cee01db",
   "metadata": {},
   "outputs": [],
   "source": []
  }
 ],
 "metadata": {
  "kernelspec": {
   "display_name": "Python 3 (ipykernel)",
   "language": "python",
   "name": "python3"
  },
  "language_info": {
   "codemirror_mode": {
    "name": "ipython",
    "version": 3
   },
   "file_extension": ".py",
   "mimetype": "text/x-python",
   "name": "python",
   "nbconvert_exporter": "python",
   "pygments_lexer": "ipython3",
   "version": "3.9.16"
  },
  "widgets": {
   "application/vnd.jupyter.widget-state+json": {
    "state": {},
    "version_major": 2,
    "version_minor": 0
   }
  }
 },
 "nbformat": 4,
 "nbformat_minor": 5
}
